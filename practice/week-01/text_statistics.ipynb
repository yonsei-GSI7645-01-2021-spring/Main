{
 "cells": [
  {
   "cell_type": "markdown",
   "metadata": {},
   "source": [
    "# 비정형 빅데이터 응용과 실습 - Week 01\n",
    "____"
   ]
  },
  {
   "cell_type": "code",
   "execution_count": 1,
   "metadata": {},
   "outputs": [],
   "source": [
    "text = \"\"\"그 날을 잊지 못해 babe\n",
    "날 보며 환히 웃던 너의 미소에\n",
    "홀린 듯 I'm fall in love\n",
    "But 너무 쪽팔림에 (난 그저)\n",
    "한마디 말도 못해 babe\n",
    "\n",
    "I wanna you 너의 눈빛은\n",
    "날 자꾸 네 곁을 맴돌게 해\n",
    "\n",
    "Just only you 굳게 닫힌 내 맘이\n",
    "어느새 무너져버려 Because of you\n",
    "\n",
    "온통 너의 생각뿐이야 나도 미치겠어\n",
    "너무 보고 싶어 매일 매일 매일\n",
    "\n",
    "자꾸 초라해지잖아 내 모습이\n",
    "그대여 내게 말해줘 사랑한다고\n",
    "\n",
    "Rollin' Rollin' Rollin' Rollin'\n",
    "Rollin' Rollin' Rollin' Rollin'\n",
    "Rollin' Rollin' Rollin' Rollin'\n",
    "하루가 멀다 하고 Rolling in the deep\n",
    "\n",
    "Rollin' Rollin' Rollin' Rollin'\n",
    "Rollin' Rollin' Rollin' Rollin'\n",
    "기다리고 있잖아 Babe Just only you\n",
    "\n",
    "기다리고 있잖아 Babe Just only you\n",
    "\n",
    "Hey I just wanna be with you\n",
    "오늘 밤이 가기 전에\n",
    "I can't feel you 조금 더 다가와 줘\n",
    "Tonight I'm ready for you\n",
    "\n",
    "You wanna touch me I know\n",
    "대체 뭘 고민해 빨리 안아\n",
    "아닌 척 모르는 척 하다가\n",
    "늦게 놓치고 후회 말아\n",
    "\n",
    "I wanna you 너의 눈빛은\n",
    "날 자꾸 네 곁을 맴돌게 해\n",
    "\n",
    "Just only you 굳게 닫힌 내 맘이\n",
    "어느새 무너져버려 Because of you\n",
    "\n",
    "온통 너의 생각뿐이야 나도 미치겠어\n",
    "너무 보고 싶어 매일 매일 매일\n",
    "\n",
    "자꾸 초라해지잖아 내 모습이\n",
    "그대여 내게 말해줘 사랑한다고\n",
    "\n",
    "Rollin' Rollin' Rollin' Rollin'\n",
    "Rollin' Rollin' Rollin' Rollin'\n",
    "Rollin' Rollin' Rollin' Rollin'\n",
    "하루가 멀다 하고 Rolling in the deep\n",
    "\n",
    "Rollin' Rollin' Rollin' Rollin'\n",
    "Rollin' Rollin' Rollin' Rollin'\n",
    "기다리고 있잖아 Babe Just only you\n",
    "\n",
    "이제 와 숨기려 하지 마요\n",
    "그대여 아닌 척하지 마요\n",
    "온종일 난 그대 생각에 잠긴 채로\n",
    "난 이대로 기다리고 있어요\n",
    "\n",
    "Rollin' Rollin' Rollin' Rollin'\n",
    "Rollin' Rollin' Rollin' Rollin'\n",
    "Rollin' Rollin' Rollin' Rollin'\n",
    "하루가 멀다 하고 Rolling in the deep\n",
    "\n",
    "Rollin' Rollin' Rollin' Rollin'\n",
    "Rollin' Rollin' Rollin' Rollin'\n",
    "기다리고 있잖아 Babe Just only you\n",
    "\n",
    "기다리고 있잖아 Babe Just only you\"\"\""
   ]
  },
  {
   "cell_type": "code",
   "execution_count": 2,
   "metadata": {},
   "outputs": [],
   "source": [
    "def get_text_analysis(text=\"\"):\n",
    "    \n",
    "    if not text:\n",
    "        return {}\n",
    "    \n",
    "    num_of_chars = len(text)\n",
    "    num_of_words = len(text.split())\n",
    "    num_of_lines = len(text.split(\"\\n\"))\n",
    "    \n",
    "    \n",
    "    return {\n",
    "        \"num_of_chars\":num_of_chars,\n",
    "        \"num_of_words\":num_of_words,\n",
    "        \"num_of_lines\":num_of_lines\n",
    "        \n",
    "    }\n",
    "    \n",
    "    \n",
    "    "
   ]
  },
  {
   "cell_type": "code",
   "execution_count": 3,
   "metadata": {},
   "outputs": [
    {
     "data": {
      "text/plain": [
       "{'num_of_chars': 1357, 'num_of_words': 284, 'num_of_lines': 75}"
      ]
     },
     "execution_count": 3,
     "metadata": {},
     "output_type": "execute_result"
    }
   ],
   "source": [
    "get_text_analysis(text)"
   ]
  },
  {
   "cell_type": "code",
   "execution_count": null,
   "metadata": {},
   "outputs": [],
   "source": []
  }
 ],
 "metadata": {
  "kernelspec": {
   "display_name": "Python 3",
   "language": "python",
   "name": "python3"
  },
  "language_info": {
   "codemirror_mode": {
    "name": "ipython",
    "version": 3
   },
   "file_extension": ".py",
   "mimetype": "text/x-python",
   "name": "python",
   "nbconvert_exporter": "python",
   "pygments_lexer": "ipython3",
   "version": "3.7.6"
  }
 },
 "nbformat": 4,
 "nbformat_minor": 4
}
