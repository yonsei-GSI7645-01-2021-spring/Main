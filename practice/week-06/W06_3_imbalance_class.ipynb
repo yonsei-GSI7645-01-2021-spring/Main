{
 "cells": [
  {
   "cell_type": "markdown",
   "metadata": {},
   "source": [
    "# BIG DATA ANALYTICS: Imblance 클래스 대응\n",
    "- sampling을 다르게 하여 앙상블을 하겠습니다.\n",
    "---"
   ]
  },
  {
   "cell_type": "markdown",
   "metadata": {},
   "source": [
    "## 데이터 로드 및 전처리"
   ]
  },
  {
   "cell_type": "code",
   "execution_count": null,
   "metadata": {},
   "outputs": [],
   "source": [
    "import pandas as pd"
   ]
  },
  {
   "cell_type": "code",
   "execution_count": null,
   "metadata": {},
   "outputs": [],
   "source": [
    "\n",
    "data = pd.read_csv(\"adult.data\", header=None, index_col=False,skipinitialspace=True,\n",
    "    names=['age', 'workclass', 'fnlwgt', 'education',  'education-num',\n",
    "           'marital-status', 'occupation', 'relationship', 'race', 'gender',\n",
    "           'capital-gain', 'capital-loss', 'hours-per-week', 'native-country',\n",
    "           'income'])\n",
    "\n",
    "data = data[['age', 'workclass', 'education', 'gender', 'hours-per-week',\n",
    "             'occupation', 'income']]\n",
    "\n",
    "data.head()"
   ]
  },
  {
   "cell_type": "code",
   "execution_count": null,
   "metadata": {},
   "outputs": [],
   "source": [
    "data.info()"
   ]
  },
  {
   "cell_type": "code",
   "execution_count": null,
   "metadata": {},
   "outputs": [],
   "source": [
    "\n",
    "\n",
    "data.loc[data['income']=='<=50K', 'income'] = 0\n",
    "data.loc[data['income']=='>50K', 'income'] = 1\n",
    "data['income'] = data['income'].astype(int)"
   ]
  },
  {
   "cell_type": "code",
   "execution_count": null,
   "metadata": {},
   "outputs": [],
   "source": [
    "data['income'].value_counts()"
   ]
  },
  {
   "cell_type": "code",
   "execution_count": null,
   "metadata": {},
   "outputs": [],
   "source": [
    "data['income'].value_counts()[0]/len(data['income'])"
   ]
  },
  {
   "cell_type": "code",
   "execution_count": null,
   "metadata": {},
   "outputs": [],
   "source": [
    "from sklearn.model_selection import train_test_split\n",
    "X = data.drop('income',axis=1)\n",
    "y = data['income']\n",
    "X_train, X_test, y_train, y_test = train_test_split(X, y, random_state=0)\n",
    "X_train = X_train.reset_index(drop=True)\n",
    "X_test = X_test.reset_index(drop=True)\n",
    "y_train = y_train.reset_index(drop=True)\n",
    "X_train"
   ]
  },
  {
   "cell_type": "code",
   "execution_count": null,
   "metadata": {},
   "outputs": [],
   "source": [
    "sum(y_train==0)/len(y_train)"
   ]
  },
  {
   "cell_type": "code",
   "execution_count": null,
   "metadata": {},
   "outputs": [],
   "source": [
    "from sklearn.preprocessing import OneHotEncoder\n",
    "from sklearn.preprocessing import MinMaxScaler\n",
    "from sklearn.preprocessing import LabelEncoder\n",
    "from sklearn.utils import column_or_1d\n",
    "\n",
    "class MyLabelEncoder(LabelEncoder):\n",
    "\n",
    "    def fit(self, y):\n",
    "        y = column_or_1d(y, warn=True)\n",
    "        self.classes_ = pd.Series(y).unique()\n",
    "        return self"
   ]
  },
  {
   "cell_type": "code",
   "execution_count": null,
   "metadata": {},
   "outputs": [],
   "source": [
    "order = ['Preschool','1st-4th','5th-6th', '7th-8th', '9th', '10th', '11th', '12th', 'HS-grad','Prof-school',\n",
    "         'Assoc-acdm','Assoc-voc','Some-college','Bachelors','Masters','Doctorate' ]\n",
    "\n",
    "new_data = X_train.copy()\n",
    "\n",
    "scaler = MinMaxScaler()\n",
    "\n",
    "new_data[['age', 'hours-per-week']] = scaler.fit_transform(new_data[['age', 'hours-per-week']])\n",
    "\n",
    "\n",
    "\n",
    "\n",
    "# workclass 병합\n",
    "enc1 = OneHotEncoder(handle_unknown='ignore')\n",
    "encoded_feature = enc1.fit_transform(new_data.workclass.values.reshape(-1, 1))\n",
    "workclass_one_hot = encoded_feature.toarray()\n",
    "columns = [\"workclass\"+str(x) for x in range(workclass_one_hot.shape[1])]\n",
    "\n",
    "work_class_df = pd.DataFrame(workclass_one_hot, columns=columns)\n",
    "\n",
    "new_data = pd.concat([new_data, work_class_df], axis=1)\n",
    "\n",
    "\n",
    "\n",
    "\n",
    "# occupation 병합\n",
    "enc2 = OneHotEncoder(handle_unknown='ignore')\n",
    "encoded_feature = enc2.fit_transform(new_data.occupation.values.reshape(-1, 1))\n",
    "occupation_one_hot = encoded_feature.toarray()\n",
    "columns = [\"occupation\"+str(x) for x in range(occupation_one_hot.shape[1])]\n",
    "\n",
    "occupation_df = pd.DataFrame(occupation_one_hot, columns=columns)\n",
    "new_data = pd.concat([new_data, occupation_df], axis=1)\n",
    "\n",
    "\n",
    "\n",
    "# 간단한건 그냥 하드코딩!\n",
    "new_data.loc[new_data['gender']=='Male', 'gender'] = 0\n",
    "new_data.loc[new_data['gender']=='Female', 'gender'] = 1\n",
    "new_data['gender'] = new_data['gender'].astype(int)\n",
    "\n",
    "\n",
    "\n",
    "\n",
    "# 교육수준은 기존의 값을 replace\n",
    "enc3 = MyLabelEncoder()\n",
    "enc3.fit(order)\n",
    "new_data['education'] = enc3.transform(new_data['education'])\n",
    "\n",
    "\n",
    "\n",
    "\n",
    "\n",
    "new_data = new_data.drop(['workclass', 'occupation'],axis=1)\n",
    "X_train = new_data\n",
    "X_train"
   ]
  },
  {
   "cell_type": "code",
   "execution_count": null,
   "metadata": {},
   "outputs": [],
   "source": [
    "new_data = X_test.copy()\n",
    "\n",
    "\n",
    "\n",
    "new_data[['age', 'hours-per-week']] = scaler.transform(new_data[['age', 'hours-per-week']])\n",
    "\n",
    "\n",
    "encoded_feature = enc1.transform(new_data.workclass.values.reshape(-1, 1))\n",
    "workclass_one_hot = encoded_feature.toarray()\n",
    "columns = [\"workclass\"+str(x) for x in range(len(enc1.categories_[0]))]\n",
    "\n",
    "work_class_df = pd.DataFrame(workclass_one_hot, columns=columns)\n",
    "new_data = pd.concat([new_data, work_class_df], axis=1)\n",
    "\n",
    "\n",
    "encoded_feature = enc2.fit_transform(new_data.occupation.values.reshape(-1, 1))\n",
    "occupation_one_hot = encoded_feature.toarray()\n",
    "columns = [\"occupation\"+str(x) for x in range(len(enc2.categories_[0]))]\n",
    "occupation_df = pd.DataFrame(occupation_one_hot, columns=columns)\n",
    "new_data = pd.concat([new_data, occupation_df], axis=1)\n",
    "\n",
    "# 간단한건 그냥 하드코딩!\n",
    "new_data.loc[new_data['gender']=='Male', 'gender'] = 0\n",
    "new_data.loc[new_data['gender']=='Female', 'gender'] = 1\n",
    "new_data['gender'] = new_data['gender'].astype(int)\n",
    "\n",
    "new_data['education'] = enc3.transform(new_data['education'])\n",
    "\n",
    "\n",
    "new_data = new_data.drop(['workclass', 'occupation'],axis=1)\n",
    "X_test = new_data\n",
    "X_test"
   ]
  },
  {
   "cell_type": "markdown",
   "metadata": {},
   "source": [
    "## 1. Over Sampling"
   ]
  },
  {
   "cell_type": "code",
   "execution_count": null,
   "metadata": {},
   "outputs": [],
   "source": [
    "over_sample_index = list(y_train[y_train==1].index)\n",
    "over_sample_data = X_train.loc[over_sample_index,:]\n",
    "over_sample_target = y_train[y_train==1]\n",
    "\n",
    "\n",
    "X_train_over = X_train.append(over_sample_data)\n",
    "y_train_over = y_train.append(over_sample_target)\n",
    "X_train_over = X_train_over.reset_index(drop=True)\n",
    "y_train_over = y_train_over.reset_index(drop=True)\n",
    "X_train_over"
   ]
  },
  {
   "cell_type": "code",
   "execution_count": null,
   "metadata": {},
   "outputs": [],
   "source": [
    "sum(y_train_over==0)/len(y_train_over)"
   ]
  },
  {
   "cell_type": "markdown",
   "metadata": {},
   "source": [
    "## 2. Under Sampling"
   ]
  },
  {
   "cell_type": "code",
   "execution_count": null,
   "metadata": {},
   "outputs": [],
   "source": [
    "\n",
    "under_sample_index = list(y_train[y_train==0].sample(frac=0.4).index)\n",
    "X_train_under = X_train.drop(under_sample_index)\n",
    "X_train_under = X_train_under.reset_index(drop=True)\n",
    "y_train_under = y_train.drop(under_sample_index)\n",
    "y_train_under = y_train_under.reset_index(drop=True)\n",
    "X_train_under"
   ]
  },
  {
   "cell_type": "code",
   "execution_count": null,
   "metadata": {},
   "outputs": [],
   "source": [
    "sum(y_train_under==0)/len(y_train_under)"
   ]
  },
  {
   "cell_type": "markdown",
   "metadata": {},
   "source": [
    "## 다른 데이터 셋 구성을 이용한 앙상블: (Weighted Voting)"
   ]
  },
  {
   "cell_type": "code",
   "execution_count": null,
   "metadata": {},
   "outputs": [],
   "source": [
    "from sklearn.neural_network import MLPClassifier"
   ]
  },
  {
   "cell_type": "markdown",
   "metadata": {},
   "source": [
    "### 1. 원본 비율 데이터"
   ]
  },
  {
   "cell_type": "code",
   "execution_count": null,
   "metadata": {},
   "outputs": [],
   "source": [
    "clf1 = MLPClassifier(max_iter = 500, random_state=42)\n",
    "clf1.fit(X_train, y_train)\n",
    "print(clf1.score(X_test, y_test))"
   ]
  },
  {
   "cell_type": "markdown",
   "metadata": {},
   "source": [
    "### 2. Over Sampling 데이터"
   ]
  },
  {
   "cell_type": "code",
   "execution_count": null,
   "metadata": {},
   "outputs": [],
   "source": [
    "clf2 = MLPClassifier(max_iter = 500, random_state=42)\n",
    "clf2.fit(X_train_over, y_train_over)\n",
    "print(clf2.score(X_test, y_test))"
   ]
  },
  {
   "cell_type": "markdown",
   "metadata": {},
   "source": [
    "### 3. Under Sampling 데이터"
   ]
  },
  {
   "cell_type": "code",
   "execution_count": null,
   "metadata": {},
   "outputs": [],
   "source": [
    "clf3 = MLPClassifier(max_iter=500, random_state=42)\n",
    "clf3.fit(X_train_under, y_train_under)\n",
    "print(clf3.score(X_test, y_test))"
   ]
  },
  {
   "cell_type": "markdown",
   "metadata": {},
   "source": [
    "### 4. Weighted Voting 계산"
   ]
  },
  {
   "cell_type": "code",
   "execution_count": null,
   "metadata": {},
   "outputs": [],
   "source": [
    "y_preds_1 = clf1.predict_proba(X_test)\n",
    "y_preds_2 = clf2.predict_proba(X_test)\n",
    "y_preds_3 = clf3.predict_proba(X_test)\n",
    "\n",
    "\n"
   ]
  },
  {
   "cell_type": "code",
   "execution_count": null,
   "metadata": {},
   "outputs": [],
   "source": [
    "y_preds = 2*y_preds_1+y_preds_2+y_preds_3\n",
    "y_preds = y_preds/4"
   ]
  },
  {
   "cell_type": "code",
   "execution_count": null,
   "metadata": {},
   "outputs": [],
   "source": [
    "y_preds.argmax(axis=1)"
   ]
  },
  {
   "cell_type": "code",
   "execution_count": null,
   "metadata": {},
   "outputs": [],
   "source": [
    "from sklearn.metrics import accuracy_score"
   ]
  },
  {
   "cell_type": "code",
   "execution_count": null,
   "metadata": {},
   "outputs": [],
   "source": [
    "accuracy_score(y_test, y_preds.argmax(axis=1))"
   ]
  },
  {
   "cell_type": "code",
   "execution_count": null,
   "metadata": {},
   "outputs": [],
   "source": []
  }
 ],
 "metadata": {
  "kernelspec": {
   "display_name": "Python 3",
   "language": "python",
   "name": "python3"
  },
  "language_info": {
   "codemirror_mode": {
    "name": "ipython",
    "version": 3
   },
   "file_extension": ".py",
   "mimetype": "text/x-python",
   "name": "python",
   "nbconvert_exporter": "python",
   "pygments_lexer": "ipython3",
   "version": "3.7.6"
  }
 },
 "nbformat": 4,
 "nbformat_minor": 4
}
