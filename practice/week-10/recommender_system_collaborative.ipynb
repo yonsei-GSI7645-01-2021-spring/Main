{
 "cells": [
  {
   "cell_type": "markdown",
   "metadata": {},
   "source": [
    "# Recommender system : collaborative"
   ]
  },
  {
   "cell_type": "code",
   "execution_count": null,
   "metadata": {},
   "outputs": [],
   "source": [
    "import pandas as pd\n",
    "import numpy as np\n",
    "from sklearn.metrics.pairwise import cosine_similarity\n"
   ]
  },
  {
   "cell_type": "markdown",
   "metadata": {},
   "source": [
    "## 1. User based collaborative filtering"
   ]
  },
  {
   "cell_type": "code",
   "execution_count": null,
   "metadata": {},
   "outputs": [],
   "source": [
    "df = pd.DataFrame(data={\n",
    "    \"movie0\":[1,0,0,1],\n",
    "    \"movie1\":[1,0,0,1],\n",
    "    \"movie2\":[0,1,1,0],\n",
    "    \"movie3\":[0,1,0,0],\n",
    "}, index=[\"user0\",\"user1\",\"user2\",\"user3\"])\n",
    "df"
   ]
  },
  {
   "cell_type": "code",
   "execution_count": null,
   "metadata": {},
   "outputs": [],
   "source": [
    "user =2"
   ]
  },
  {
   "cell_type": "code",
   "execution_count": null,
   "metadata": {},
   "outputs": [],
   "source": [
    "sims = cosine_similarity(df)\n",
    "sims"
   ]
  },
  {
   "cell_type": "code",
   "execution_count": null,
   "metadata": {},
   "outputs": [],
   "source": [
    "np.fill_diagonal(sims, 0)\n",
    "themost_similar_user = np.argmax(sims[user])\n",
    "themost_similar_user"
   ]
  },
  {
   "cell_type": "code",
   "execution_count": null,
   "metadata": {},
   "outputs": [],
   "source": []
  },
  {
   "cell_type": "code",
   "execution_count": null,
   "metadata": {},
   "outputs": [],
   "source": [
    "movie_diff = df.values[themost_similar_user] - df.values[user]\n",
    "if movie_diff.sum() <= 0:\n",
    "    print(\"You have watched all\")\n",
    "else:\n",
    "    for k,v in enumerate(movie_diff):\n",
    "\n",
    "        if v == 1:\n",
    "            movie_id = k\n",
    "            print(\"It's time to watch movie\"+str(movie_id))"
   ]
  },
  {
   "cell_type": "markdown",
   "metadata": {},
   "source": [
    "## 2. Item based collaborative filtering"
   ]
  },
  {
   "cell_type": "code",
   "execution_count": null,
   "metadata": {},
   "outputs": [],
   "source": [
    "df = pd.DataFrame(data={\n",
    "    \"user0\":[1,0,0,1],\n",
    "    \"user1\":[1,0,0,1],\n",
    "    \"user2\":[0,1,1,0],\n",
    "    \"user3\":[0,1,0,0],\n",
    "}, index=[\"movie0\",\"movie1\",\"movie2\",\"movie3\"])\n",
    "df"
   ]
  },
  {
   "cell_type": "code",
   "execution_count": null,
   "metadata": {},
   "outputs": [],
   "source": [
    "movie =2"
   ]
  },
  {
   "cell_type": "code",
   "execution_count": null,
   "metadata": {},
   "outputs": [],
   "source": [
    "sims = cosine_similarity(df)\n",
    "sims"
   ]
  },
  {
   "cell_type": "code",
   "execution_count": null,
   "metadata": {},
   "outputs": [],
   "source": [
    "np.fill_diagonal(sims, 0)\n",
    "themost_similar_movie = np.argmax(sims[movie])\n",
    "themost_similar_movie"
   ]
  }
 ],
 "metadata": {
  "kernelspec": {
   "display_name": "Python 3",
   "language": "python",
   "name": "python3"
  },
  "language_info": {
   "codemirror_mode": {
    "name": "ipython",
    "version": 3
   },
   "file_extension": ".py",
   "mimetype": "text/x-python",
   "name": "python",
   "nbconvert_exporter": "python",
   "pygments_lexer": "ipython3",
   "version": "3.7.6"
  }
 },
 "nbformat": 4,
 "nbformat_minor": 4
}
